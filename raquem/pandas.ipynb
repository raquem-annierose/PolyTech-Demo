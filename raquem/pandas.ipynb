{
 "cells": [
  {
   "cell_type": "markdown",
   "id": "cb8b4387",
   "metadata": {},
   "source": [
    "# Demo Pandas"
   ]
  },
  {
   "cell_type": "markdown",
   "id": "15f67df0",
   "metadata": {},
   "source": [
    "## Import Library"
   ]
  },
  {
   "cell_type": "code",
   "execution_count": null,
   "id": "79ba8663",
   "metadata": {},
   "outputs": [],
   "source": [
    "import pandas as pd"
   ]
  },
  {
   "cell_type": "markdown",
   "id": "d666f1d8",
   "metadata": {},
   "source": [
    "## Series"
   ]
  },
  {
   "cell_type": "code",
   "execution_count": null,
   "id": "88df3157",
   "metadata": {},
   "outputs": [],
   "source": [
    "data = pd.Series([10, 20, 30]), index=['a', 'b', 'c']\n",
    "print(data)"
   ]
  }
 ],
 "metadata": {
  "kernelspec": {
   "display_name": ".venv",
   "language": "python",
   "name": "python3"
  },
  "language_info": {
   "name": "python",
   "version": "3.13.5"
  }
 },
 "nbformat": 4,
 "nbformat_minor": 5
}
