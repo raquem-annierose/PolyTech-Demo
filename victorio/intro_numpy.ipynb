{
 "cells": [
  {
   "cell_type": "markdown",
   "id": "3c20d3a0",
   "metadata": {},
   "source": [
    "# INTRODUCTION TO NUMPY"
   ]
  },
  {
   "cell_type": "markdown",
   "id": "3e05b98a",
   "metadata": {},
   "source": [
    "## Install NumPy"
   ]
  },
  {
   "cell_type": "markdown",
   "id": "8850829e",
   "metadata": {},
   "source": [
    "pip install numpy"
   ]
  },
  {
   "cell_type": "markdown",
   "id": "31b58177",
   "metadata": {},
   "source": [
    "## Import NumPy"
   ]
  },
  {
   "cell_type": "code",
   "execution_count": null,
   "id": "9ed2c9f5",
   "metadata": {},
   "outputs": [],
   "source": [
    "import numpy as np"
   ]
  },
  {
   "cell_type": "markdown",
   "id": "295bc44c",
   "metadata": {},
   "source": [
    "## Checking NumPy Version"
   ]
  },
  {
   "cell_type": "code",
   "execution_count": 3,
   "id": "dc3b9a27",
   "metadata": {},
   "outputs": [
    {
     "name": "stdout",
     "output_type": "stream",
     "text": [
      "2.3.1\n"
     ]
    }
   ],
   "source": [
    "\n",
    "import numpy as np\n",
    "print(np.__version__)\n"
   ]
  },
  {
   "cell_type": "markdown",
   "id": "56aca2af",
   "metadata": {},
   "source": [
    "## Creating a NumPy Array"
   ]
  },
  {
   "cell_type": "code",
   "execution_count": null,
   "id": "ba9cf1a3",
   "metadata": {},
   "outputs": [
    {
     "name": "stdout",
     "output_type": "stream",
     "text": [
      "<class 'numpy.ndarray'>\n"
     ]
    }
   ],
   "source": [
    "arr = np.array([1, 2, 3, 4, 5])\n",
    "\n",
    "print(type(arr))"
   ]
  },
  {
   "cell_type": "markdown",
   "id": "7323aa20",
   "metadata": {},
   "source": [
    "## Matrix Multiplication Sample"
   ]
  },
  {
   "cell_type": "code",
   "execution_count": null,
   "id": "4dcbc929",
   "metadata": {},
   "outputs": [
    {
     "name": "stdout",
     "output_type": "stream",
     "text": [
      "[[19 22]\n",
      " [43 50]]\n"
     ]
    }
   ],
   "source": [
    "a = np.array([[1, 2], [3, 4]])\n",
    "b = np.array([[5, 6], [7, 8]])\n",
    "print(np.dot(a, b))"
   ]
  },
  {
   "cell_type": "markdown",
   "id": "30eaa592",
   "metadata": {},
   "source": [
    "## Conditional"
   ]
  },
  {
   "cell_type": "code",
   "execution_count": 5,
   "id": "fb2198bd",
   "metadata": {},
   "outputs": [
    {
     "name": "stdout",
     "output_type": "stream",
     "text": [
      "[ True  True False False]\n"
     ]
    }
   ],
   "source": [
    "a = np.array([20, 30, 40, 50])\n",
    "print(a < 35) "
   ]
  },
  {
   "cell_type": "markdown",
   "id": "05d519b3",
   "metadata": {},
   "source": [
    "## Logical"
   ]
  },
  {
   "cell_type": "code",
   "execution_count": null,
   "id": "0c27707e",
   "metadata": {},
   "outputs": [
    {
     "name": "stdout",
     "output_type": "stream",
     "text": [
      "[False False  True]\n",
      "[ True False  True]\n",
      "[False  True False]\n"
     ]
    }
   ],
   "source": [
    "x = np.array([True, False, True])\n",
    "y = np.array([False, False, True])\n",
    "\n",
    "print(x & y)  # Logical AND\n",
    "print(x | y)  # Logical OR\n",
    "print(~x)     # Logical NOT"
   ]
  },
  {
   "cell_type": "code",
   "execution_count": null,
   "id": "36ed8b25",
   "metadata": {},
   "outputs": [
    {
     "name": "stdout",
     "output_type": "stream",
     "text": [
      "[5 7 9]\n",
      "[-3 -3 -3]\n",
      "[ 4 10 18]\n",
      "[0.25 0.4  0.5 ]\n"
     ]
    }
   ],
   "source": [
    "array_1 = np.array([1, 2, 3])\n",
    "array_2 = np.array([4, 5, 6])\n",
    "\n",
    "print(array_1 + array_2)\n",
    "print(array_1 - array_2)\n",
    "print(array_1 * array_2)\n",
    "print(array_1 / array_2)"
   ]
  },
  {
   "cell_type": "code",
   "execution_count": 6,
   "id": "6ecc72d8",
   "metadata": {},
   "outputs": [
    {
     "name": "stdout",
     "output_type": "stream",
     "text": [
      "[[2 4]\n",
      " [6 8]]\n"
     ]
    }
   ],
   "source": [
    "a = np.array([[1, 2], [3, 4]])\n",
    "a*=2\n",
    "print(a)"
   ]
  },
  {
   "cell_type": "markdown",
   "id": "1bf2b869",
   "metadata": {},
   "source": [
    "## Properties of Arrays"
   ]
  },
  {
   "cell_type": "code",
   "execution_count": 5,
   "id": "858ef019",
   "metadata": {},
   "outputs": [
    {
     "name": "stdout",
     "output_type": "stream",
     "text": [
      "Array:\n",
      "[[1 2 3]\n",
      " [4 5 6]]\n",
      "Type: <class 'numpy.ndarray'>\n",
      "Shape: (2, 3)\n",
      "Data Type: int64\n",
      "Number of Dimensions: 2\n",
      "Total Elements: 6\n",
      "Item Size (bytes): 8\n",
      "Total Bytes: 48\n"
     ]
    }
   ],
   "source": [
    "a = np.array([[1, 2, 3], [4, 5, 6]])\n",
    "\n",
    "print(\"Array:\")\n",
    "print(a)\n",
    "\n",
    "print(\"Type:\", type(a))           # <class 'numpy.ndarray'>\n",
    "print(\"Shape:\", a.shape)          # (2, 3)\n",
    "print(\"Data Type:\", a.dtype)      # int64 or int32 (platform-dependent)\n",
    "print(\"Number of Dimensions:\", a.ndim)  # 2\n",
    "print(\"Total Elements:\", a.size)        # 6\n",
    "print(\"Item Size (bytes):\", a.itemsize) # typically 4 or 8\n",
    "print(\"Total Bytes:\", a.nbytes)         # size × itemsize\n"
   ]
  },
  {
   "cell_type": "markdown",
   "id": "1415ec65",
   "metadata": {},
   "source": [
    "## Accessing elements using Indexing"
   ]
  },
  {
   "cell_type": "code",
   "execution_count": 4,
   "id": "db6f2195",
   "metadata": {},
   "outputs": [
    {
     "name": "stdout",
     "output_type": "stream",
     "text": [
      "6\n"
     ]
    }
   ],
   "source": [
    "arr2d = np.array([[1, 2, 3], [4, 5, 6]])\n",
    "print(arr2d[1, 2])"
   ]
  },
  {
   "cell_type": "markdown",
   "id": "3873cfa8",
   "metadata": {},
   "source": [
    "## Adding Arrays"
   ]
  },
  {
   "cell_type": "code",
   "execution_count": null,
   "id": "d619d450",
   "metadata": {},
   "outputs": [
    {
     "name": "stdout",
     "output_type": "stream",
     "text": [
      "[1 2 3 4 5 6 7 8]\n"
     ]
    }
   ],
   "source": [
    "import numpy as np\n",
    "\n",
    "arr1 = np.array([1, 2, 3, 4])\n",
    "arr2 = np.array([5, 6, 7, 8])\n",
    "\n",
    "combined = np.concatenate((arr1, arr2))\n",
    "print(combined)"
   ]
  },
  {
   "cell_type": "markdown",
   "id": "6dbc5b90",
   "metadata": {},
   "source": [
    "## Removing single elements"
   ]
  },
  {
   "cell_type": "code",
   "execution_count": 12,
   "id": "cb7aeafc",
   "metadata": {},
   "outputs": [
    {
     "name": "stdout",
     "output_type": "stream",
     "text": [
      "[10 30 40]\n"
     ]
    }
   ],
   "source": [
    "arr = np.array([10, 20, 30, 40])\n",
    "new_arr = np.delete(arr, 1)  # Removes index 1 (20)\n",
    "print(new_arr)  # [10 30 40]"
   ]
  },
  {
   "cell_type": "markdown",
   "id": "dfabfd98",
   "metadata": {},
   "source": [
    "## Removing multiple elements"
   ]
  },
  {
   "cell_type": "code",
   "execution_count": 16,
   "id": "bf88f554",
   "metadata": {},
   "outputs": [
    {
     "name": "stdout",
     "output_type": "stream",
     "text": [
      "[1 2 3 4 5]\n",
      "remaining elements after deleting 1st and last element  [2 3 4]\n"
     ]
    }
   ],
   "source": [
    "arr1 = np.array([1, 2, 3, 4, 5])\n",
    "\n",
    "print(arr1)\n",
    "\n",
    "print(\"remaining elements after deleting 1st and last element \",\n",
    "      np.delete(arr1, [0, 4]))"
   ]
  },
  {
   "cell_type": "markdown",
   "id": "8f251d3b",
   "metadata": {},
   "source": [
    "## Removing a column in a 2D array"
   ]
  },
  {
   "cell_type": "code",
   "execution_count": 17,
   "id": "26a18f0e",
   "metadata": {},
   "outputs": [
    {
     "name": "stdout",
     "output_type": "stream",
     "text": [
      "[[ 1  3  4]\n",
      " [ 5  7  8]\n",
      " [ 9 11 12]]\n"
     ]
    }
   ],
   "source": [
    "arr = np.array([[1 ,2, 3, 4],\n",
    "                  [5, 6, 7, 8],\n",
    "                  [9, 10, 11, 12]])\n",
    "\n",
    "print(np.delete(arr, 1, axis=1))"
   ]
  },
  {
   "cell_type": "markdown",
   "id": "16aaaeb0",
   "metadata": {},
   "source": [
    "## Removing a row in a 2D array"
   ]
  },
  {
   "cell_type": "code",
   "execution_count": 18,
   "id": "9f8844fd",
   "metadata": {},
   "outputs": [
    {
     "name": "stdout",
     "output_type": "stream",
     "text": [
      "[[ 1  2  3  4]\n",
      " [ 9 10 11 12]]\n"
     ]
    }
   ],
   "source": [
    "arr = np.array([[1 ,2, 3, 4],\n",
    "                  [5, 6, 7, 8],\n",
    "                  [9, 10, 11, 12]])\n",
    "\n",
    "print(np.delete(arr, 1, axis=0))"
   ]
  },
  {
   "cell_type": "markdown",
   "id": "e6b637d6",
   "metadata": {},
   "source": [
    "## Sorting Arrays"
   ]
  },
  {
   "cell_type": "code",
   "execution_count": 11,
   "id": "d7fc98f4",
   "metadata": {},
   "outputs": [
    {
     "name": "stdout",
     "output_type": "stream",
     "text": [
      "[1 2 3 4 5 6 7 8]\n"
     ]
    }
   ],
   "source": [
    "arr = np.array([2, 1, 5, 3, 7, 4, 6, 8])\n",
    "sorted_arr = np.sort(arr)\n",
    "\n",
    "print(sorted_arr)"
   ]
  }
 ],
 "metadata": {
  "kernelspec": {
   "display_name": ".venv",
   "language": "python",
   "name": "python3"
  },
  "language_info": {
   "codemirror_mode": {
    "name": "ipython",
    "version": 3
   },
   "file_extension": ".py",
   "mimetype": "text/x-python",
   "name": "python",
   "nbconvert_exporter": "python",
   "pygments_lexer": "ipython3",
   "version": "3.12.6"
  }
 },
 "nbformat": 4,
 "nbformat_minor": 5
}
