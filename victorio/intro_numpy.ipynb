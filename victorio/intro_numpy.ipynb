{
 "cells": [
  {
   "cell_type": "markdown",
   "id": "3c20d3a0",
   "metadata": {},
   "source": [
    "# INTRODUCTION TO NUMPY"
   ]
  },
  {
   "cell_type": "markdown",
   "id": "3e05b98a",
   "metadata": {},
   "source": [
    "# Install NumPy"
   ]
  },
  {
   "cell_type": "markdown",
   "id": "8850829e",
   "metadata": {},
   "source": [
    "pip install numpy"
   ]
  },
  {
   "cell_type": "markdown",
   "id": "31b58177",
   "metadata": {},
   "source": [
    "# Import NumPy"
   ]
  },
  {
   "cell_type": "code",
   "execution_count": 2,
   "id": "9ed2c9f5",
   "metadata": {},
   "outputs": [],
   "source": [
    "import numpy as np"
   ]
  },
  {
   "cell_type": "markdown",
   "id": "295bc44c",
   "metadata": {},
   "source": [
    "# Checking NumPy Version"
   ]
  },
  {
   "cell_type": "code",
   "execution_count": 3,
   "id": "dc3b9a27",
   "metadata": {},
   "outputs": [
    {
     "name": "stdout",
     "output_type": "stream",
     "text": [
      "2.3.1\n"
     ]
    }
   ],
   "source": [
    "\n",
    "import numpy as np\n",
    "print(np.__version__)\n"
   ]
  },
  {
   "cell_type": "markdown",
   "id": "2c68ea34",
   "metadata": {},
   "source": [
    "# Sample code without Numpy"
   ]
  },
  {
   "cell_type": "code",
   "execution_count": 5,
   "id": "51bfcc10",
   "metadata": {},
   "outputs": [
    {
     "name": "stdout",
     "output_type": "stream",
     "text": [
      "Python Loop Time Taken:  0.293711 seconds\n"
     ]
    }
   ],
   "source": [
    "import time\n",
    "\n",
    "python_list = list(range(1000000))\n",
    "\n",
    "start_time = time.time()\n",
    "\n",
    "result = 0\n",
    "for x in python_list:\n",
    "    result += (x**2 + x**3 + x**4)\n",
    "\n",
    "end_time = time.time()\n",
    "print(f\"Python Loop Time Taken: {end_time - start_time: .6f} seconds\")\n"
   ]
  },
  {
   "cell_type": "markdown",
   "id": "dd46a17b",
   "metadata": {},
   "source": [
    "# Sample code with numpy"
   ]
  },
  {
   "cell_type": "code",
   "execution_count": 1,
   "id": "657e1617",
   "metadata": {},
   "outputs": [
    {
     "name": "stdout",
     "output_type": "stream",
     "text": [
      "Numpy time taken: 0.049065 seconds\n"
     ]
    }
   ],
   "source": [
    "import numpy as np\n",
    "import time\n",
    "\n",
    "numpy_arr = np.arange(1000000, dtype=np.float64)\n",
    "start_time = time.time()\n",
    "\n",
    "np_result = np.sum(numpy_arr**2 + numpy_arr**3 + numpy_arr**4)\n",
    "\n",
    "end_time = time.time()\n",
    "print(f\"Numpy time taken: {end_time - start_time:.6f} seconds\")\n"
   ]
  },
  {
   "cell_type": "markdown",
   "id": "4ee1dba8",
   "metadata": {},
   "source": [
    "# Creating a numpy array"
   ]
  },
  {
   "cell_type": "code",
   "execution_count": null,
   "id": "ba9cf1a3",
   "metadata": {},
   "outputs": [
    {
     "name": "stdout",
     "output_type": "stream",
     "text": [
      "<class 'numpy.ndarray'>\n"
     ]
    }
   ],
   "source": [
    "arr = np.array([1, 2, 3, 4, 5])\n",
    "\n",
    "print(type(arr))"
   ]
  },
  {
   "cell_type": "markdown",
   "id": "2ef23f0e",
   "metadata": {},
   "source": [
    "# Creating a range of numbers"
   ]
  },
  {
   "cell_type": "code",
   "execution_count": 7,
   "id": "03103872",
   "metadata": {},
   "outputs": [
    {
     "name": "stdout",
     "output_type": "stream",
     "text": [
      "[0 2 4 6 8]\n"
     ]
    }
   ],
   "source": [
    "arr = np.arange(0, 10, 2)\n",
    "print(arr)"
   ]
  },
  {
   "cell_type": "markdown",
   "id": "50c54010",
   "metadata": {},
   "source": [
    "# Changing the shape of an array"
   ]
  },
  {
   "cell_type": "code",
   "execution_count": 10,
   "id": "de852dfa",
   "metadata": {},
   "outputs": [
    {
     "name": "stdout",
     "output_type": "stream",
     "text": [
      "[[1 2 3]\n",
      " [4 5 6]]\n"
     ]
    }
   ],
   "source": [
    "arr = np.array([1, 2, 3, 4, 5, 6])\n",
    "reshaped = arr.reshape((2, 3))\n",
    "\n",
    "print(reshaped)"
   ]
  },
  {
   "cell_type": "markdown",
   "id": "193c9550",
   "metadata": {},
   "source": [
    "# Accessing elements using indexing"
   ]
  },
  {
   "cell_type": "code",
   "execution_count": 10,
   "id": "db6f2195",
   "metadata": {},
   "outputs": [
    {
     "name": "stdout",
     "output_type": "stream",
     "text": [
      "6\n"
     ]
    }
   ],
   "source": [
    "arr = np.array([[1, 2, 3], [4, 5, 6]])\n",
    "print(arr[1, 2])"
   ]
  },
  {
   "cell_type": "markdown",
   "id": "1b7b6c0e",
   "metadata": {},
   "source": [
    "# Joining arrays"
   ]
  },
  {
   "cell_type": "code",
   "execution_count": null,
   "id": "d619d450",
   "metadata": {},
   "outputs": [
    {
     "name": "stdout",
     "output_type": "stream",
     "text": [
      "[1 2 3 4 5 6 7 8]\n"
     ]
    }
   ],
   "source": [
    "import numpy as np\n",
    "\n",
    "arr1 = np.array([1, 2, 3, 4])\n",
    "arr2 = np.array([5, 6, 7, 8])\n",
    "\n",
    "combined = np.concatenate((arr1, arr2))\n",
    "print(combined)"
   ]
  },
  {
   "cell_type": "markdown",
   "id": "0ad9ea61",
   "metadata": {},
   "source": [
    "# Sorting arrays"
   ]
  },
  {
   "cell_type": "code",
   "execution_count": 3,
   "id": "7dca6c89",
   "metadata": {},
   "outputs": [
    {
     "name": "stdout",
     "output_type": "stream",
     "text": [
      "[1 2 3 4 5 6 7 8]\n"
     ]
    }
   ],
   "source": [
    "arr = np.array([2, 1, 5, 3, 7, 4, 6, 8])\n",
    "sorted_arr = np.sort(arr)\n",
    "\n",
    "print(sorted_arr)"
   ]
  },
  {
   "cell_type": "markdown",
   "id": "787c9999",
   "metadata": {},
   "source": [
    "# Removing single elements"
   ]
  },
  {
   "cell_type": "code",
   "execution_count": null,
   "id": "cb7aeafc",
   "metadata": {},
   "outputs": [
    {
     "name": "stdout",
     "output_type": "stream",
     "text": [
      "[10 30 40]\n"
     ]
    }
   ],
   "source": [
    "arr = np.array([10, 20, 30, 40])\n",
    "new_arr = np.delete(arr, 1)\n",
    "print(new_arr)"
   ]
  },
  {
   "cell_type": "markdown",
   "id": "dfabfd98",
   "metadata": {},
   "source": [
    "# Removing multiple elements"
   ]
  },
  {
   "cell_type": "code",
   "execution_count": 11,
   "id": "bf88f554",
   "metadata": {},
   "outputs": [
    {
     "name": "stdout",
     "output_type": "stream",
     "text": [
      "[1 2 3 4 5]\n",
      "remaining elements after deleting 1st and last element  [2 3 4]\n"
     ]
    }
   ],
   "source": [
    "arr1 = np.array([1, 2, 3, 4, 5])\n",
    "\n",
    "print(arr1)\n",
    "\n",
    "print(\"remaining elements after deleting 1st and last element \",\n",
    "      np.delete(arr1, [0, 4]))"
   ]
  },
  {
   "cell_type": "markdown",
   "id": "8f251d3b",
   "metadata": {},
   "source": [
    "# Removing a column in a 2D array"
   ]
  },
  {
   "cell_type": "code",
   "execution_count": 17,
   "id": "26a18f0e",
   "metadata": {},
   "outputs": [
    {
     "name": "stdout",
     "output_type": "stream",
     "text": [
      "[[ 1  3  4]\n",
      " [ 5  7  8]\n",
      " [ 9 11 12]]\n"
     ]
    }
   ],
   "source": [
    "arr = np.array([[1 ,2, 3, 4],\n",
    "                  [5, 6, 7, 8],\n",
    "                  [9, 10, 11, 12]])\n",
    "\n",
    "print(np.delete(arr, 1, axis=1))"
   ]
  },
  {
   "cell_type": "markdown",
   "id": "16aaaeb0",
   "metadata": {},
   "source": [
    "# Removing a row in a 2D array"
   ]
  },
  {
   "cell_type": "code",
   "execution_count": 18,
   "id": "9f8844fd",
   "metadata": {},
   "outputs": [
    {
     "name": "stdout",
     "output_type": "stream",
     "text": [
      "[[ 1  2  3  4]\n",
      " [ 9 10 11 12]]\n"
     ]
    }
   ],
   "source": [
    "arr = np.array([[1 ,2, 3, 4],\n",
    "                  [5, 6, 7, 8],\n",
    "                  [9, 10, 11, 12]])\n",
    "\n",
    "print(np.delete(arr, 1, axis=0))"
   ]
  },
  {
   "cell_type": "markdown",
   "id": "0529f55d",
   "metadata": {},
   "source": [
    "# Properties of arrays"
   ]
  },
  {
   "cell_type": "code",
   "execution_count": 5,
   "id": "35982230",
   "metadata": {},
   "outputs": [
    {
     "name": "stdout",
     "output_type": "stream",
     "text": [
      "Array:\n",
      "[[1 2 3]\n",
      " [4 5 6]]\n",
      "Type: <class 'numpy.ndarray'>\n",
      "Shape: (2, 3)\n",
      "Data Type: int64\n",
      "Number of Dimensions: 2\n",
      "Total Elements: 6\n",
      "Item Size (bytes): 8\n",
      "Total Bytes: 48\n"
     ]
    }
   ],
   "source": [
    "a = np.array([[1, 2, 3], [4, 5, 6]])\n",
    "\n",
    "print(\"Array:\")\n",
    "print(a)\n",
    "\n",
    "print(\"Type:\", type(a))\n",
    "print(\"Shape:\", a.shape)\n",
    "print(\"Data Type:\", a.dtype)\n",
    "print(\"Number of Dimensions:\", a.ndim)\n",
    "print(\"Total Elements:\", a.size)\n",
    "print(\"Item Size (bytes):\", a.itemsize)\n",
    "print(\"Total Bytes:\", a.nbytes)"
   ]
  },
  {
   "cell_type": "markdown",
   "id": "d9398e3a",
   "metadata": {},
   "source": [
    "# Broadcasting"
   ]
  },
  {
   "cell_type": "code",
   "execution_count": 5,
   "id": "443464e9",
   "metadata": {},
   "outputs": [
    {
     "name": "stdout",
     "output_type": "stream",
     "text": [
      "[[11 22 33]\n",
      " [14 25 36]]\n"
     ]
    }
   ],
   "source": [
    "arr1 = np.array([[1, 2, 3],\n",
    "                 [4, 5, 6]])\n",
    "arr2 = np.array([10, 20 , 30])\n",
    "\n",
    "result = arr1 + arr2\n",
    "print(result)"
   ]
  },
  {
   "cell_type": "markdown",
   "id": "129ad12c",
   "metadata": {},
   "source": [
    "# Arithmetic Operations"
   ]
  },
  {
   "cell_type": "code",
   "execution_count": 3,
   "id": "0e500959",
   "metadata": {},
   "outputs": [
    {
     "name": "stdout",
     "output_type": "stream",
     "text": [
      "[5 7 9]\n",
      "[-3 -3 -3]\n",
      "[ 4 10 18]\n",
      "[0.25 0.4  0.5 ]\n"
     ]
    }
   ],
   "source": [
    "array_1 = np.array([1, 2, 3])\n",
    "array_2 = np.array([4, 5, 6])\n",
    "\n",
    "print(array_1 + array_2)\n",
    "print(array_1 - array_2)\n",
    "print(array_1 * array_2)\n",
    "print(array_1 / array_2)"
   ]
  },
  {
   "cell_type": "markdown",
   "id": "dd35e956",
   "metadata": {},
   "source": [
    "# Comparison Operations"
   ]
  },
  {
   "cell_type": "code",
   "execution_count": 6,
   "id": "fb2198bd",
   "metadata": {},
   "outputs": [
    {
     "name": "stdout",
     "output_type": "stream",
     "text": [
      "[ True  True False False]\n"
     ]
    }
   ],
   "source": [
    "array1 = np.array([20, 30, 40, 50])\n",
    "print(array1 < 35)"
   ]
  },
  {
   "cell_type": "code",
   "execution_count": 7,
   "id": "f0d78220",
   "metadata": {},
   "outputs": [
    {
     "name": "stdout",
     "output_type": "stream",
     "text": [
      "Using less(): [ True False False]\n",
      "Using less_equal(): [ True  True False]\n",
      "Using greater(): [False False  True]\n",
      "Using greater_equal(): [False  True  True]\n",
      "Using equal(): [False  True False]\n",
      "Using not_equal(): [ True False  True]\n"
     ]
    }
   ],
   "source": [
    "array1 = np.array([9, 12, 21])\n",
    "array2 = np.array([21, 12, 9])\n",
    "\n",
    "result = np.less(array1, array2)\n",
    "print(\"Using less():\",result)\n",
    "\n",
    "result = np.less_equal(array1, array2)\n",
    "print(\"Using less_equal():\",result)\n",
    "\n",
    "result = np.greater(array1, array2)\n",
    "print(\"Using greater():\",result)\n",
    "\n",
    "result = np.greater_equal(array1, array2)\n",
    "print(\"Using greater_equal():\",result)\n",
    "\n",
    "result = np.equal(array1, array2)\n",
    "print(\"Using equal():\",result)\n",
    "\n",
    "result = np.not_equal(array1, array2)\n",
    "print(\"Using not_equal():\",result)"
   ]
  },
  {
   "cell_type": "markdown",
   "id": "b4eff3d6",
   "metadata": {},
   "source": [
    "# Logical Operations"
   ]
  },
  {
   "cell_type": "code",
   "execution_count": 7,
   "id": "cad7888d",
   "metadata": {},
   "outputs": [
    {
     "data": {
      "text/plain": [
       "array([False,  True,  True,  True, False])"
      ]
     },
     "execution_count": 7,
     "metadata": {},
     "output_type": "execute_result"
    }
   ],
   "source": [
    "arr1 = np.array([1, 2, 3, 4, 5])\n",
    "np.logical_and(arr1 > 1, arr1 < 5)"
   ]
  },
  {
   "cell_type": "code",
   "execution_count": null,
   "id": "265941fc",
   "metadata": {},
   "outputs": [
    {
     "name": "stdout",
     "output_type": "stream",
     "text": [
      "AND result: [False  True  True  True False]\n",
      "Values (1 < x < 5): [2 3 4]\n",
      "OR result: [ True False False False  True]\n",
      "Values (x < 2 or x > 4): [1 5]\n",
      "NOT result: [ True  True  True False False]\n",
      "Values (NOT x > 3): [1 2 3]\n"
     ]
    }
   ],
   "source": [
    "array1 = np.array([1, 2, 3, 4, 5])\n",
    "\n",
    "and_result = np.logical_and(array1 > 1, array1 < 5)\n",
    "print(\"AND result:\", and_result)\n",
    "print(\"Values (1 < x < 5):\", array1[and_result])\n",
    "\n",
    "or_result = np.logical_or(array1 < 2, array1 > 4)\n",
    "print(\"OR result:\", or_result)\n",
    "print(\"Values (x < 2 or x > 4):\", array1[or_result])\n",
    "\n",
    "not_result = np.logical_not(array1 > 3)\n",
    "print(\"NOT result:\", not_result)\n",
    "print(\"Values (NOT x > 3):\", array1[not_result])"
   ]
  },
  {
   "cell_type": "markdown",
   "id": "7323aa20",
   "metadata": {},
   "source": [
    "# Matrix Multiplication Sample"
   ]
  },
  {
   "cell_type": "code",
   "execution_count": 1,
   "id": "4dcbc929",
   "metadata": {},
   "outputs": [
    {
     "name": "stdout",
     "output_type": "stream",
     "text": [
      "Matrix A:\n",
      " [[1 2]\n",
      " [3 4]]\n",
      "Matrix B:\n",
      " [[5 6]\n",
      " [7 8]]\n",
      "Result (A @ B):\n",
      " [[19 22]\n",
      " [43 50]]\n",
      "Result using np.dot():\n",
      " [[19 22]\n",
      " [43 50]]\n"
     ]
    }
   ],
   "source": [
    "A = np.array([[1, 2],\n",
    "              [3, 4]])\n",
    "\n",
    "B = np.array([[5, 6],\n",
    "              [7, 8]])\n",
    "\n",
    "# Method 1: Using @ operator (recommended)\n",
    "C = A @ B\n",
    "\n",
    "# Method 2: Using np.dot()\n",
    "D = np.dot(A, B)\n",
    "\n",
    "print(\"Result (A @ B):\\n\", C)\n",
    "print(\"Result using np.dot():\\n\", D)\n"
   ]
  },
  {
   "cell_type": "markdown",
   "id": "e63c74f9",
   "metadata": {},
   "source": [
    "# In-Place Operations"
   ]
  },
  {
   "cell_type": "code",
   "execution_count": 4,
   "id": "bf02c008",
   "metadata": {},
   "outputs": [
    {
     "name": "stdout",
     "output_type": "stream",
     "text": [
      "[6 7 8]\n"
     ]
    }
   ],
   "source": [
    "arr = np.array([1, 2, 3])\n",
    "arr += 5\n",
    "print(arr)"
   ]
  }
 ],
 "metadata": {
  "kernelspec": {
   "display_name": ".venv",
   "language": "python",
   "name": "python3"
  },
  "language_info": {
   "codemirror_mode": {
    "name": "ipython",
    "version": 3
   },
   "file_extension": ".py",
   "mimetype": "text/x-python",
   "name": "python",
   "nbconvert_exporter": "python",
   "pygments_lexer": "ipython3",
   "version": "3.12.6"
  }
 },
 "nbformat": 4,
 "nbformat_minor": 5
}
